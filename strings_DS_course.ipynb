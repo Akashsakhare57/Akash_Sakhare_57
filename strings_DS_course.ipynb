{
 "cells": [
  {
   "cell_type": "code",
   "execution_count": 8,
   "id": "98e198ef",
   "metadata": {},
   "outputs": [
    {
     "name": "stdout",
     "output_type": "stream",
     "text": [
      "welcome to python welcome to python\n"
     ]
    }
   ],
   "source": [
    "str1=\"welcome to python\"\n",
    "str1\n",
    "str2=str1\n",
    "print(str1,str2)"
   ]
  },
  {
   "cell_type": "markdown",
   "id": "c222b0d6",
   "metadata": {},
   "source": [
    "## special characters in string "
   ]
  },
  {
   "cell_type": "code",
   "execution_count": 18,
   "id": "ca92dff7",
   "metadata": {},
   "outputs": [
    {
     "name": "stdout",
     "output_type": "stream",
     "text": [
      "what's your name\n"
     ]
    }
   ],
   "source": [
    "#\\---> Escape character\n",
    "s=\"what's your name\"\n",
    "print(s)"
   ]
  },
  {
   "cell_type": "code",
   "execution_count": 17,
   "id": "dc9984a2",
   "metadata": {},
   "outputs": [
    {
     "name": "stdout",
     "output_type": "stream",
     "text": [
      "what's your name\n"
     ]
    }
   ],
   "source": [
    "s='what\\'s your name'\n",
    "print(s)"
   ]
  },
  {
   "cell_type": "code",
   "execution_count": 16,
   "id": "d07a2381",
   "metadata": {},
   "outputs": [
    {
     "name": "stdout",
     "output_type": "stream",
     "text": [
      "welcome to \n",
      " python\n"
     ]
    }
   ],
   "source": [
    "#\\n ---> next line chraracter\n",
    "s=\"welcome to \\n python\"\n",
    "print(s)"
   ]
  },
  {
   "cell_type": "code",
   "execution_count": 20,
   "id": "217c4352",
   "metadata": {},
   "outputs": [
    {
     "name": "stdout",
     "output_type": "stream",
     "text": [
      " in data science\n"
     ]
    }
   ],
   "source": [
    "# \\r carriage return\n",
    "a=\"we are learning python \\r in data science\"\n",
    "print(a)"
   ]
  },
  {
   "cell_type": "code",
   "execution_count": 29,
   "id": "87f22bec",
   "metadata": {},
   "outputs": [
    {
     "name": "stdout",
     "output_type": "stream",
     "text": [
      " of engineering\n"
     ]
    }
   ],
   "source": [
    "b=\"welcme to DYP college \\r of engineering\"\n",
    "print(b)"
   ]
  },
  {
   "cell_type": "code",
   "execution_count": 23,
   "id": "7774842c",
   "metadata": {},
   "outputs": [
    {
     "name": "stdout",
     "output_type": "stream",
     "text": [
      "welcome to DYP \t college of engineering\n"
     ]
    }
   ],
   "source": [
    "#\\t\n",
    "c=\"welcome to DYP \\t college of engineering\"\n",
    "print(c)"
   ]
  },
  {
   "cell_type": "markdown",
   "id": "a6a40850",
   "metadata": {},
   "source": [
    "## string formating"
   ]
  },
  {
   "cell_type": "code",
   "execution_count": null,
   "id": "3451c8ca",
   "metadata": {},
   "outputs": [],
   "source": [
    "1. format()\n",
    "2. f string \n",
    "3. % "
   ]
  },
  {
   "cell_type": "code",
   "execution_count": 24,
   "id": "340af616",
   "metadata": {},
   "outputs": [
    {
     "name": "stdout",
     "output_type": "stream",
     "text": [
      "addition of 10 and 20 is 30\n"
     ]
    }
   ],
   "source": [
    "x=10\n",
    "y=20\n",
    "z=x+y\n",
    "print(\"addition of {} and {} is {}\".format(x,y,z))"
   ]
  },
  {
   "cell_type": "code",
   "execution_count": 26,
   "id": "246cbc7e",
   "metadata": {},
   "outputs": [
    {
     "name": "stdout",
     "output_type": "stream",
     "text": [
      "addition of 10 and 20 is 30\n"
     ]
    }
   ],
   "source": [
    "print(\"addition of {} and {} is {}\".format(x,y,x+y))"
   ]
  },
  {
   "cell_type": "code",
   "execution_count": 28,
   "id": "7163b56f",
   "metadata": {},
   "outputs": [
    {
     "name": "stdout",
     "output_type": "stream",
     "text": [
      "addition of 30 and 50 is 80\n"
     ]
    }
   ],
   "source": [
    "a=30\n",
    "b=50\n",
    "print(f\"addition of {a} and {b} is {a+b}\")"
   ]
  },
  {
   "cell_type": "code",
   "execution_count": null,
   "id": "f5fd78cd",
   "metadata": {},
   "outputs": [],
   "source": [
    "Format with %\n",
    "Formatted strings \n",
    "%d----int\n",
    "%f---float\n",
    "%s---str"
   ]
  },
  {
   "cell_type": "code",
   "execution_count": 10,
   "id": "8f9fe5f9",
   "metadata": {},
   "outputs": [
    {
     "name": "stdout",
     "output_type": "stream",
     "text": [
      "addition of 100 and 200 is 300\n"
     ]
    }
   ],
   "source": [
    "a = 100 \n",
    "b = 200\n",
    "c = a + b\n",
    "\n",
    "print(\"addition of %d and %d is %d\" %(a,b,c))\n"
   ]
  },
  {
   "cell_type": "code",
   "execution_count": 30,
   "id": "1faa5986",
   "metadata": {},
   "outputs": [
    {
     "data": {
      "text/plain": [
       "'addition of 100.000000 and 200.000000 is 300.000000'"
      ]
     },
     "execution_count": 30,
     "metadata": {},
     "output_type": "execute_result"
    }
   ],
   "source": [
    "a = 100 \n",
    "b = 200\n",
    "c = a + b\n",
    "\n",
    "s = \"addition of %f and %f is %f\" %(a,b,c)\n",
    "s"
   ]
  },
  {
   "cell_type": "code",
   "execution_count": 31,
   "id": "5b34f2fc",
   "metadata": {},
   "outputs": [
    {
     "name": "stdout",
     "output_type": "stream",
     "text": [
      "String 1 is Python and String 2 is  Learning\n"
     ]
    }
   ],
   "source": [
    "s1 = 'Python'\n",
    "s2 = ' Learning'\n",
    "\n",
    "s = \"String 1 is %s and String 2 is %s\" %(s1,s2)\n",
    "print(s)"
   ]
  },
  {
   "cell_type": "code",
   "execution_count": 32,
   "id": "e0402b81",
   "metadata": {},
   "outputs": [
    {
     "data": {
      "text/plain": [
       "'Python Learning'"
      ]
     },
     "execution_count": 32,
     "metadata": {},
     "output_type": "execute_result"
    }
   ],
   "source": [
    "s1 + s2"
   ]
  },
  {
   "cell_type": "code",
   "execution_count": 33,
   "id": "c35f2b5e",
   "metadata": {},
   "outputs": [
    {
     "data": {
      "text/plain": [
       "'pythonLearning'"
      ]
     },
     "execution_count": 33,
     "metadata": {},
     "output_type": "execute_result"
    }
   ],
   "source": [
    "s1 = 'python'\n",
    "s2 = 'Learning'\n",
    "\n",
    "s1+s2"
   ]
  },
  {
   "cell_type": "code",
   "execution_count": 34,
   "id": "d7eee268",
   "metadata": {},
   "outputs": [
    {
     "data": {
      "text/plain": [
       "'python Learning'"
      ]
     },
     "execution_count": 34,
     "metadata": {},
     "output_type": "execute_result"
    }
   ],
   "source": [
    "s1 = 'python'\n",
    "s2 = 'Learning'\n",
    "\n",
    "s1+' '+s2"
   ]
  },
  {
   "cell_type": "markdown",
   "id": "cdaf1771",
   "metadata": {},
   "source": [
    "## Indexing"
   ]
  },
  {
   "cell_type": "code",
   "execution_count": 11,
   "id": "ff8b5a77",
   "metadata": {},
   "outputs": [
    {
     "data": {
      "text/plain": [
       "' '"
      ]
     },
     "execution_count": 11,
     "metadata": {},
     "output_type": "execute_result"
    }
   ],
   "source": [
    "str1=\"I am learning python\"\n",
    "str1[1]"
   ]
  },
  {
   "cell_type": "code",
   "execution_count": 4,
   "id": "8ca75e06",
   "metadata": {},
   "outputs": [
    {
     "data": {
      "text/plain": [
       "'I am'"
      ]
     },
     "execution_count": 4,
     "metadata": {},
     "output_type": "execute_result"
    }
   ],
   "source": [
    "str1[0:4]"
   ]
  },
  {
   "cell_type": "code",
   "execution_count": 5,
   "id": "c2d052d0",
   "metadata": {},
   "outputs": [
    {
     "data": {
      "text/plain": [
       "'n'"
      ]
     },
     "execution_count": 5,
     "metadata": {},
     "output_type": "execute_result"
    }
   ],
   "source": [
    "str1[-1]"
   ]
  },
  {
   "cell_type": "code",
   "execution_count": 9,
   "id": "efdfd5a9",
   "metadata": {},
   "outputs": [
    {
     "data": {
      "text/plain": [
       "'n'"
      ]
     },
     "execution_count": 9,
     "metadata": {},
     "output_type": "execute_result"
    }
   ],
   "source": [
    "str1[-1]"
   ]
  },
  {
   "cell_type": "code",
   "execution_count": 10,
   "id": "ac909fd7",
   "metadata": {},
   "outputs": [
    {
     "data": {
      "text/plain": [
       "' lea'"
      ]
     },
     "execution_count": 10,
     "metadata": {},
     "output_type": "execute_result"
    }
   ],
   "source": [
    "str1[4:8]"
   ]
  },
  {
   "cell_type": "code",
   "execution_count": 12,
   "id": "746efe4c",
   "metadata": {},
   "outputs": [
    {
     "data": {
      "text/plain": [
       "'Ia erigp'"
      ]
     },
     "execution_count": 12,
     "metadata": {},
     "output_type": "execute_result"
    }
   ],
   "source": [
    "str1[0:15:2]"
   ]
  },
  {
   "cell_type": "code",
   "execution_count": 20,
   "id": "63be9498",
   "metadata": {},
   "outputs": [
    {
     "data": {
      "text/plain": [
       "'I am learning python'"
      ]
     },
     "execution_count": 20,
     "metadata": {},
     "output_type": "execute_result"
    }
   ],
   "source": [
    "str1[0:20]"
   ]
  },
  {
   "cell_type": "code",
   "execution_count": 22,
   "id": "23d497b1",
   "metadata": {},
   "outputs": [
    {
     "data": {
      "text/plain": [
       "'nohtyp gninrael ma I'"
      ]
     },
     "execution_count": 22,
     "metadata": {},
     "output_type": "execute_result"
    }
   ],
   "source": [
    "str1[::-1]"
   ]
  },
  {
   "cell_type": "code",
   "execution_count": 27,
   "id": "c38765fc",
   "metadata": {},
   "outputs": [
    {
     "data": {
      "text/plain": [
       "'I am learn'"
      ]
     },
     "execution_count": 27,
     "metadata": {},
     "output_type": "execute_result"
    }
   ],
   "source": [
    "str1[-20:-10]"
   ]
  },
  {
   "cell_type": "code",
   "execution_count": 34,
   "id": "1a989fb9",
   "metadata": {},
   "outputs": [
    {
     "data": {
      "text/plain": [
       "' erigpto'"
      ]
     },
     "execution_count": 34,
     "metadata": {},
     "output_type": "execute_result"
    }
   ],
   "source": [
    "str1[4::2]"
   ]
  },
  {
   "cell_type": "code",
   "execution_count": 35,
   "id": "e8d3e897",
   "metadata": {},
   "outputs": [
    {
     "data": {
      "text/plain": [
       "'I am learning pyt'"
      ]
     },
     "execution_count": 35,
     "metadata": {},
     "output_type": "execute_result"
    }
   ],
   "source": [
    "str1[:-3]"
   ]
  },
  {
   "cell_type": "code",
   "execution_count": 32,
   "id": "966c259a",
   "metadata": {},
   "outputs": [
    {
     "data": {
      "text/plain": [
       "5"
      ]
     },
     "execution_count": 32,
     "metadata": {},
     "output_type": "execute_result"
    }
   ],
   "source": [
    "str1.index('l')"
   ]
  },
  {
   "cell_type": "code",
   "execution_count": 31,
   "id": "b815427f",
   "metadata": {},
   "outputs": [
    {
     "data": {
      "text/plain": [
       "14"
      ]
     },
     "execution_count": 31,
     "metadata": {},
     "output_type": "execute_result"
    }
   ],
   "source": [
    "str1.index(\"python\")"
   ]
  },
  {
   "cell_type": "code",
   "execution_count": 37,
   "id": "1cfe3347",
   "metadata": {},
   "outputs": [
    {
     "data": {
      "text/plain": [
       "20"
      ]
     },
     "execution_count": 37,
     "metadata": {},
     "output_type": "execute_result"
    }
   ],
   "source": [
    "len(str1)"
   ]
  },
  {
   "cell_type": "markdown",
   "id": "13d4e360",
   "metadata": {},
   "source": [
    "## Count"
   ]
  },
  {
   "cell_type": "code",
   "execution_count": 42,
   "id": "082fb56e",
   "metadata": {},
   "outputs": [
    {
     "data": {
      "text/plain": [
       "3"
      ]
     },
     "execution_count": 42,
     "metadata": {},
     "output_type": "execute_result"
    }
   ],
   "source": [
    "str1.count('n')"
   ]
  },
  {
   "cell_type": "code",
   "execution_count": 13,
   "id": "32e96982",
   "metadata": {},
   "outputs": [
    {
     "data": {
      "text/plain": [
       "3"
      ]
     },
     "execution_count": 13,
     "metadata": {},
     "output_type": "execute_result"
    }
   ],
   "source": [
    "str1.count(\" \")"
   ]
  },
  {
   "cell_type": "code",
   "execution_count": 44,
   "id": "3d96bd02",
   "metadata": {},
   "outputs": [
    {
     "data": {
      "text/plain": [
       "1"
      ]
     },
     "execution_count": 44,
     "metadata": {},
     "output_type": "execute_result"
    }
   ],
   "source": [
    "str1.count('n',10,15)"
   ]
  },
  {
   "cell_type": "markdown",
   "id": "7098de64",
   "metadata": {},
   "source": [
    "## Find"
   ]
  },
  {
   "cell_type": "code",
   "execution_count": 14,
   "id": "86b70541",
   "metadata": {},
   "outputs": [
    {
     "data": {
      "text/plain": [
       "3"
      ]
     },
     "execution_count": 14,
     "metadata": {},
     "output_type": "execute_result"
    }
   ],
   "source": [
    "str1.find('m')"
   ]
  },
  {
   "cell_type": "code",
   "execution_count": 50,
   "id": "d65bdfc4",
   "metadata": {},
   "outputs": [
    {
     "data": {
      "text/plain": [
       "2"
      ]
     },
     "execution_count": 50,
     "metadata": {},
     "output_type": "execute_result"
    }
   ],
   "source": [
    "str1.find('a')"
   ]
  },
  {
   "cell_type": "code",
   "execution_count": 51,
   "id": "3a6804c8",
   "metadata": {},
   "outputs": [
    {
     "data": {
      "text/plain": [
       "-1"
      ]
     },
     "execution_count": 51,
     "metadata": {},
     "output_type": "execute_result"
    }
   ],
   "source": [
    "str1.find('x')"
   ]
  },
  {
   "cell_type": "code",
   "execution_count": 7,
   "id": "69ce3481",
   "metadata": {},
   "outputs": [
    {
     "name": "stdout",
     "output_type": "stream",
     "text": [
      "python found\n"
     ]
    }
   ],
   "source": [
    "str1=\"I am learning python for Data Science\"\n",
    "str2='python'\n",
    "s=str1.find(str2)\n",
    "if s==-1:\n",
    "    print(f\"{str2} not found\")\n",
    "else:\n",
    "    print(f\"{str2} found\")"
   ]
  },
  {
   "cell_type": "markdown",
   "id": "6c65646a",
   "metadata": {},
   "source": [
    "# String functions:\n",
    "1. Capitalize()--->starting letter will be capitalized\n",
    "2. Upper()---> all the lower case letters are converted to upper case\n",
    "3. Lower()---> all the upper case letters are converted to lower case\n",
    "4. Tilte()---> converts the alphabets to Title format\n",
    "5. Lstrip()---->removes left side (leading) spaces in the string\n",
    "6. Rstrip()---->removes right side (trailing) in string \n",
    "7. Strip()----->removes leading and trailing spaces in the string\n",
    "8. Swapcase()---> interchanges the case of the alphabets\n",
    "9. Replace()----> replaces with the required strings to new string\n",
    "10. Isupper()---> checks wherther given sting is in upper case?, its boolean function \n",
    "11. Islower()----> checks whether given string is in lower case, boolean function\n",
    "12. Isalnum()----> checks all the cheracters are numbers & alphbets, boolean fu nction\n",
    "13. Isdecimal()--->checks the given numbers are decimal?, boolean function\n",
    "14. endswith()----> checks the given string endswith perticular string?\n",
    "15. Join()--> joins list to string\n",
    "16. split()---> split the given string into substrings\n",
    "17. center()--->alliens the string in the center\n",
    "18. zfill()----> fills with zeros at the beginning\n",
    "19. isspace()---> whether there is spece in the given string\n",
    "20. isnumeric()---> whether given string is numaric\n",
    "21. isdigit()---> whether given string is digit?\n",
    "22. istittle()---> whether given string is title\n",
    "23. isalpha()---> whether given string is alphabet\n",
    "24. startswith--->whether given string starts with ....\n",
    "25. in -----> membership operator\n",
    "\n",
    "    \n",
    "    "
   ]
  },
  {
   "cell_type": "code",
   "execution_count": 4,
   "id": "b2671747",
   "metadata": {},
   "outputs": [
    {
     "name": "stdout",
     "output_type": "stream",
     "text": [
      "This is python class\n"
     ]
    }
   ],
   "source": [
    "str1=\"this is python class\"\n",
    "print(str1.capitalize())\n",
    "#print(Cstr)"
   ]
  },
  {
   "cell_type": "code",
   "execution_count": 5,
   "id": "cd6c86b1",
   "metadata": {},
   "outputs": [
    {
     "name": "stdout",
     "output_type": "stream",
     "text": [
      "20 is my age\n"
     ]
    }
   ],
   "source": [
    "s=\"20 is my age\"\n",
    "print(s.capitalize())"
   ]
  },
  {
   "cell_type": "code",
   "execution_count": 6,
   "id": "a5b53829",
   "metadata": {},
   "outputs": [
    {
     "name": "stdout",
     "output_type": "stream",
     "text": [
      "SHIVALEELA ARLIMATTI\n"
     ]
    }
   ],
   "source": [
    "s=\"shivaleela arlimatti\"\n",
    "print(s.upper())"
   ]
  },
  {
   "cell_type": "code",
   "execution_count": 7,
   "id": "6a765723",
   "metadata": {},
   "outputs": [
    {
     "name": "stdout",
     "output_type": "stream",
     "text": [
      "shivaleela arlimatti\n"
     ]
    }
   ],
   "source": [
    "s=\"SHIVALEELA ARLIMATTI\"\n",
    "print(s.lower())"
   ]
  },
  {
   "cell_type": "markdown",
   "id": "4b8b0d10",
   "metadata": {},
   "source": [
    "### title()"
   ]
  },
  {
   "cell_type": "code",
   "execution_count": 8,
   "id": "45ae47ce",
   "metadata": {},
   "outputs": [
    {
     "name": "stdout",
     "output_type": "stream",
     "text": [
      "Delhi Is Capital Of India\n"
     ]
    }
   ],
   "source": [
    "s=\"delhi is capital of india\"\n",
    "print(s.title())"
   ]
  },
  {
   "cell_type": "code",
   "execution_count": 9,
   "id": "2279587a",
   "metadata": {},
   "outputs": [
    {
     "name": "stdout",
     "output_type": "stream",
     "text": [
      "Republic Day Is On 26Th Jan\n"
     ]
    }
   ],
   "source": [
    "s=\"republic day is on 26th jan\"\n",
    "print(s.title())"
   ]
  },
  {
   "cell_type": "markdown",
   "id": "de8c26cb",
   "metadata": {},
   "source": [
    "### lstrip(), rstrip() and strip()"
   ]
  },
  {
   "cell_type": "code",
   "execution_count": 11,
   "id": "2564e13a",
   "metadata": {},
   "outputs": [
    {
     "name": "stdout",
     "output_type": "stream",
     "text": [
      "      DYP college of engineering\n",
      "DYP college of engineering\n"
     ]
    }
   ],
   "source": [
    "s=\"      DYP college of engineering\"\n",
    "print(s)\n",
    "print(s.lstrip())"
   ]
  },
  {
   "cell_type": "code",
   "execution_count": 23,
   "id": "2c489304",
   "metadata": {},
   "outputs": [
    {
     "name": "stdout",
     "output_type": "stream",
     "text": [
      "DYP college of egnineering\n"
     ]
    },
    {
     "data": {
      "text/plain": [
       "'DYP college of egnineering      '"
      ]
     },
     "execution_count": 23,
     "metadata": {},
     "output_type": "execute_result"
    }
   ],
   "source": [
    "s=\"DYP college of egnineering      \"\n",
    "print(s.rstrip())\n",
    "s"
   ]
  },
  {
   "cell_type": "code",
   "execution_count": 24,
   "id": "10de3473",
   "metadata": {},
   "outputs": [
    {
     "name": "stdout",
     "output_type": "stream",
     "text": [
      "DYP college of Engineering\n"
     ]
    }
   ],
   "source": [
    "s=\"------------DYP college of Engineering------\"\n",
    "print(s.strip('-'))"
   ]
  },
  {
   "cell_type": "markdown",
   "id": "0a033582",
   "metadata": {},
   "source": [
    "## swapcase()"
   ]
  },
  {
   "cell_type": "code",
   "execution_count": 30,
   "id": "03d4f873",
   "metadata": {},
   "outputs": [
    {
     "name": "stdout",
     "output_type": "stream",
     "text": [
      "dyp cOLLEGE OF eNGINEERING\n"
     ]
    }
   ],
   "source": [
    "s=\"DYP College of Engineering\"\n",
    "print(s.swapcase())"
   ]
  },
  {
   "cell_type": "markdown",
   "id": "5e24d421",
   "metadata": {},
   "source": [
    "## endswith()"
   ]
  },
  {
   "cell_type": "code",
   "execution_count": 24,
   "id": "16fa0cae",
   "metadata": {},
   "outputs": [
    {
     "name": "stdout",
     "output_type": "stream",
     "text": [
      "True\n"
     ]
    }
   ],
   "source": [
    "str1=\"welcome to College?\"\n",
    "print(str1.endswith('?'))\n"
   ]
  },
  {
   "cell_type": "code",
   "execution_count": 58,
   "id": "7d4668ab",
   "metadata": {},
   "outputs": [
    {
     "name": "stdout",
     "output_type": "stream",
     "text": [
      "True\n"
     ]
    }
   ],
   "source": [
    "print(s.endswith('ING'))"
   ]
  },
  {
   "cell_type": "code",
   "execution_count": 63,
   "id": "cd7b3a9a",
   "metadata": {},
   "outputs": [
    {
     "name": "stdout",
     "output_type": "stream",
     "text": [
      "False\n"
     ]
    }
   ],
   "source": [
    "\n",
    "print(s.endswith('ENGINEERING',5,10))"
   ]
  },
  {
   "cell_type": "markdown",
   "id": "61f8bffc",
   "metadata": {},
   "source": [
    "## isupper(), islower()"
   ]
  },
  {
   "cell_type": "code",
   "execution_count": 33,
   "id": "98a49023",
   "metadata": {},
   "outputs": [
    {
     "name": "stdout",
     "output_type": "stream",
     "text": [
      "True\n"
     ]
    }
   ],
   "source": [
    "s=\"DYP COLLEGE OF ENGINEERING\"\n",
    "print(s.isupper())\n",
    "#print(s.islower())"
   ]
  },
  {
   "cell_type": "code",
   "execution_count": 34,
   "id": "45a6368a",
   "metadata": {},
   "outputs": [
    {
     "name": "stdout",
     "output_type": "stream",
     "text": [
      "True\n"
     ]
    }
   ],
   "source": [
    "s1=\"dyp college of engineering\"\n",
    "print(s1.islower())"
   ]
  },
  {
   "cell_type": "code",
   "execution_count": 36,
   "id": "b639bd0b",
   "metadata": {},
   "outputs": [
    {
     "name": "stdout",
     "output_type": "stream",
     "text": [
      "False\n",
      "False\n"
     ]
    }
   ],
   "source": [
    "s2=\"DYP College of Engineering\"\n",
    "print(s2.isupper())\n",
    "print(s2.islower())"
   ]
  },
  {
   "cell_type": "markdown",
   "id": "7aa3fe84",
   "metadata": {},
   "source": [
    "## isalnum()"
   ]
  },
  {
   "cell_type": "code",
   "execution_count": 39,
   "id": "acfeef3e",
   "metadata": {},
   "outputs": [
    {
     "name": "stdout",
     "output_type": "stream",
     "text": [
      "False\n"
     ]
    }
   ],
   "source": [
    "print(s2.isalnum())"
   ]
  },
  {
   "cell_type": "markdown",
   "id": "40a23d89",
   "metadata": {},
   "source": [
    "## replace()"
   ]
  },
  {
   "cell_type": "code",
   "execution_count": 51,
   "id": "5657a6eb",
   "metadata": {},
   "outputs": [
    {
     "name": "stdout",
     "output_type": "stream",
     "text": [
      "KIT College of Engineering\n"
     ]
    }
   ],
   "source": [
    "print(s2.replace('DYP','KIT'))"
   ]
  },
  {
   "cell_type": "code",
   "execution_count": 50,
   "id": "96b9d61b",
   "metadata": {},
   "outputs": [
    {
     "name": "stdout",
     "output_type": "stream",
     "text": [
      "I like pune\n"
     ]
    }
   ],
   "source": [
    "s3= \"I like kolhapur\"\n",
    "s4 = s3.replace(\"kolhapur\", \"pune\")\n",
    "print(s4)"
   ]
  },
  {
   "cell_type": "markdown",
   "id": "108b29e7",
   "metadata": {},
   "source": [
    "## split() and join()"
   ]
  },
  {
   "cell_type": "code",
   "execution_count": 49,
   "id": "6a883124",
   "metadata": {},
   "outputs": [
    {
     "name": "stdout",
     "output_type": "stream",
     "text": [
      "['welcome', 'to', 'Kolhapur']\n",
      "w*e*l*c*o*m*e* *t*o* *K*o*l*h*a*p*u*r\n"
     ]
    }
   ],
   "source": [
    "str1='welcome to Kolhapur'\n",
    "str2=str1.split()\n",
    "print(str2)\n",
    "str1[0]\n",
    "\n",
    "x='*'.join(str1)\n",
    "print(x)"
   ]
  },
  {
   "cell_type": "code",
   "execution_count": 37,
   "id": "15c35f70",
   "metadata": {},
   "outputs": [
    {
     "data": {
      "text/plain": [
       "'welcome'"
      ]
     },
     "execution_count": 37,
     "metadata": {},
     "output_type": "execute_result"
    }
   ],
   "source": [
    "str2[0]"
   ]
  },
  {
   "cell_type": "code",
   "execution_count": 43,
   "id": "e1c6f5a7",
   "metadata": {},
   "outputs": [
    {
     "data": {
      "text/plain": [
       "'welcome to Kolhapur'"
      ]
     },
     "execution_count": 43,
     "metadata": {},
     "output_type": "execute_result"
    }
   ],
   "source": [
    "str3=' '.join(str2)\n",
    "str3"
   ]
  },
  {
   "cell_type": "markdown",
   "id": "a8df618b",
   "metadata": {},
   "source": [
    "## in operator"
   ]
  },
  {
   "cell_type": "code",
   "execution_count": 76,
   "id": "98e8b5ed",
   "metadata": {},
   "outputs": [
    {
     "data": {
      "text/plain": [
       "True"
      ]
     },
     "execution_count": 76,
     "metadata": {},
     "output_type": "execute_result"
    }
   ],
   "source": [
    "s=\"Python is forth semester subject\"\n",
    "\"subject\" in s"
   ]
  },
  {
   "cell_type": "code",
   "execution_count": 77,
   "id": "db5432be",
   "metadata": {},
   "outputs": [
    {
     "data": {
      "text/plain": [
       "True"
      ]
     },
     "execution_count": 77,
     "metadata": {},
     "output_type": "execute_result"
    }
   ],
   "source": [
    "'sem' in s"
   ]
  },
  {
   "cell_type": "code",
   "execution_count": 78,
   "id": "38f8341c",
   "metadata": {},
   "outputs": [
    {
     "data": {
      "text/plain": [
       "False"
      ]
     },
     "execution_count": 78,
     "metadata": {},
     "output_type": "execute_result"
    }
   ],
   "source": [
    "'math'in s"
   ]
  },
  {
   "cell_type": "markdown",
   "id": "09c9174a",
   "metadata": {},
   "source": [
    "## zfill()"
   ]
  },
  {
   "cell_type": "code",
   "execution_count": 52,
   "id": "0f06682a",
   "metadata": {},
   "outputs": [
    {
     "name": "stdout",
     "output_type": "stream",
     "text": [
      "7\n",
      "000welcome\n"
     ]
    }
   ],
   "source": [
    "x=\"welcome\"\n",
    "print(len(x))\n",
    "print(x.zfill(10))\n"
   ]
  },
  {
   "cell_type": "code",
   "execution_count": 80,
   "id": "b332eabd",
   "metadata": {},
   "outputs": [
    {
     "name": "stdout",
     "output_type": "stream",
     "text": [
      "00000000000hello all\n"
     ]
    }
   ],
   "source": [
    "y=(\"hello all\")\n",
    "print(y.zfill(20))"
   ]
  },
  {
   "cell_type": "code",
   "execution_count": 82,
   "id": "17c45837",
   "metadata": {},
   "outputs": [
    {
     "name": "stdout",
     "output_type": "stream",
     "text": [
      "0000001000\n"
     ]
    }
   ],
   "source": [
    "z='1000'\n",
    "print(z.zfill(10))"
   ]
  },
  {
   "cell_type": "markdown",
   "id": "c217cda1",
   "metadata": {},
   "source": [
    "## isspace()\n"
   ]
  },
  {
   "cell_type": "code",
   "execution_count": 6,
   "id": "6e28fe72",
   "metadata": {},
   "outputs": [
    {
     "name": "stdout",
     "output_type": "stream",
     "text": [
      "False\n"
     ]
    }
   ],
   "source": [
    "str1=\"  Shivaleela   Arlimatti \"  # function will check for empty string\n",
    "print(str1.isspace())"
   ]
  },
  {
   "cell_type": "code",
   "execution_count": 7,
   "id": "61446b0c",
   "metadata": {},
   "outputs": [
    {
     "name": "stdout",
     "output_type": "stream",
     "text": [
      "False\n"
     ]
    }
   ],
   "source": [
    "s=\"\"\n",
    "print(s.isspace())"
   ]
  },
  {
   "cell_type": "code",
   "execution_count": 8,
   "id": "347b6c76",
   "metadata": {},
   "outputs": [
    {
     "name": "stdout",
     "output_type": "stream",
     "text": [
      "True\n"
     ]
    }
   ],
   "source": [
    "s=\"      \"\n",
    "print(s.isspace())"
   ]
  },
  {
   "cell_type": "code",
   "execution_count": 32,
   "id": "396ca0b9",
   "metadata": {},
   "outputs": [
    {
     "name": "stdout",
     "output_type": "stream",
     "text": [
      "False\n"
     ]
    }
   ],
   "source": [
    "num=\"20.5600000\"\n",
    "type(num)\n",
    "print(num.isdecimal())"
   ]
  },
  {
   "cell_type": "code",
   "execution_count": null,
   "id": "3157471f",
   "metadata": {},
   "outputs": [],
   "source": []
  }
 ],
 "metadata": {
  "kernelspec": {
   "display_name": "Python 3",
   "language": "python",
   "name": "python3"
  },
  "language_info": {
   "codemirror_mode": {
    "name": "ipython",
    "version": 3
   },
   "file_extension": ".py",
   "mimetype": "text/x-python",
   "name": "python",
   "nbconvert_exporter": "python",
   "pygments_lexer": "ipython3",
   "version": "3.8.8"
  }
 },
 "nbformat": 4,
 "nbformat_minor": 5
}
